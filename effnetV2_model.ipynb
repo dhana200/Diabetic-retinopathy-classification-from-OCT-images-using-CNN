{
 "cells": [
  {
   "cell_type": "code",
   "execution_count": 1,
   "metadata": {
    "execution": {
     "iopub.execute_input": "2021-12-03T14:43:02.678059Z",
     "iopub.status.busy": "2021-12-03T14:43:02.677646Z",
     "iopub.status.idle": "2021-12-03T14:43:04.374320Z",
     "shell.execute_reply": "2021-12-03T14:43:04.373556Z",
     "shell.execute_reply.started": "2021-12-03T14:43:02.677949Z"
    }
   },
   "outputs": [],
   "source": [
    "import os\n",
    "import matplotlib.pyplot as plt\n",
    "import cv2\n",
    "import numpy as np\n",
    "import pandas as pd\n",
    "import matplotlib.gridspec as gridspec\n",
    "import seaborn as sns\n",
    "import itertools\n",
    "import sklearn\n",
    "import itertools\n",
    "import scipy\n",
    "import skimage\n",
    "from skimage.transform import resize\n",
    "from tqdm import tqdm\n",
    "from sklearn.model_selection import train_test_split\n",
    "from sklearn.utils import class_weight\n",
    "import random\n",
    "random.seed(123)"
   ]
  },
  {
   "cell_type": "code",
   "execution_count": 2,
   "metadata": {
    "execution": {
     "iopub.execute_input": "2021-12-03T14:59:48.783649Z",
     "iopub.status.busy": "2021-12-03T14:59:48.783303Z",
     "iopub.status.idle": "2021-12-03T14:59:55.113102Z",
     "shell.execute_reply": "2021-12-03T14:59:55.112116Z",
     "shell.execute_reply.started": "2021-12-03T14:59:48.783615Z"
    }
   },
   "outputs": [
    {
     "data": {
      "text/plain": [
       "'channels_last'"
      ]
     },
     "execution_count": 2,
     "metadata": {},
     "output_type": "execute_result"
    }
   ],
   "source": [
    "import tensorflow as tf\n",
    "from tensorflow.keras.models import Sequential\n",
    "from tensorflow.keras.layers import Dense,Dropout,Activation\n",
    "from tensorflow.keras.layers import Flatten,Conv2D,MaxPooling2D\n",
    "from tensorflow.keras.datasets import cifar10\n",
    "from tensorflow.keras.preprocessing.image import ImageDataGenerator\n",
    "from tensorflow.keras.callbacks import TensorBoard\n",
    "import time\n",
    "import pickle\n",
    "import numpy as np  #to run array operations\n",
    "import matplotlib.pyplot as plt   # to plot the or to show the images\n",
    "import os    #to iterate throgh directories\n",
    "import cv2 \n",
    "from sklearn.model_selection import train_test_split\n",
    "from tensorflow.keras import backend as K\n",
    "K.image_data_format()"
   ]
  },
  {
   "cell_type": "code",
   "execution_count": 3,
   "metadata": {
    "execution": {
     "iopub.execute_input": "2021-12-03T15:00:24.900687Z",
     "iopub.status.busy": "2021-12-03T15:00:24.900348Z",
     "iopub.status.idle": "2021-12-03T15:00:24.906676Z",
     "shell.execute_reply": "2021-12-03T15:00:24.905705Z",
     "shell.execute_reply.started": "2021-12-03T15:00:24.900652Z"
    }
   },
   "outputs": [],
   "source": [
    "from tensorflow.keras.optimizers import SGD,RMSprop,Adam\n",
    "from tqdm import tqdm"
   ]
  },
  {
   "cell_type": "code",
   "execution_count": null,
   "metadata": {
    "execution": {
     "iopub.execute_input": "2021-12-03T14:43:04.376164Z",
     "iopub.status.busy": "2021-12-03T14:43:04.375934Z",
     "iopub.status.idle": "2021-12-03T14:43:04.388479Z",
     "shell.execute_reply": "2021-12-03T14:43:04.387765Z",
     "shell.execute_reply.started": "2021-12-03T14:43:04.376137Z"
    }
   },
   "outputs": [],
   "source": [
    "train_path = 'E:/oct images/OCT2017_/train'\n",
    "CATEGORIES = [\"CNV\",\"DME\",\"DRUSEN\",\"NORMAL\"]\n",
    "IMG_SIZE = 128\n",
    "myList = os.listdir(train_path)"
   ]
  },
  {
   "cell_type": "code",
   "execution_count": null,
   "metadata": {
    "execution": {
     "iopub.execute_input": "2021-12-03T14:43:07.828578Z",
     "iopub.status.busy": "2021-12-03T14:43:07.828048Z",
     "iopub.status.idle": "2021-12-03T14:58:21.348565Z",
     "shell.execute_reply": "2021-12-03T14:58:21.347556Z",
     "shell.execute_reply.started": "2021-12-03T14:43:07.828537Z"
    }
   },
   "outputs": [],
   "source": [
    "X=[]\n",
    "y=[]\n",
    "for x in myList:\n",
    "  myPicList = os.listdir(train_path+\"/\"+str(x))\n",
    "  for i in tqdm(myPicList):\n",
    "    curImg = cv2.imread(train_path+\"/\"+str(x)+\"/\"+i)\n",
    "    curImg = cv2.resize(curImg,(IMG_SIZE,IMG_SIZE))\n",
    "    X.append(curImg)\n",
    "    y.append(CATEGORIES.index(x))"
   ]
  },
  {
   "cell_type": "code",
   "execution_count": null,
   "metadata": {
    "execution": {
     "iopub.execute_input": "2021-12-03T14:35:38.199921Z",
     "iopub.status.busy": "2021-12-03T14:35:38.199530Z",
     "iopub.status.idle": "2021-12-03T14:35:41.253123Z",
     "shell.execute_reply": "2021-12-03T14:35:41.252053Z",
     "shell.execute_reply.started": "2021-12-03T14:35:38.199885Z"
    }
   },
   "outputs": [],
   "source": [
    "X = np.array(X)"
   ]
  },
  {
   "cell_type": "code",
   "execution_count": null,
   "metadata": {},
   "outputs": [],
   "source": [
    "y = np.array(y)"
   ]
  },
  {
   "cell_type": "code",
   "execution_count": null,
   "metadata": {},
   "outputs": [],
   "source": [
    "pickle_out = open(\"X.pickle\",\"wb\")\n",
    "pickle.dump(X,pickle_out)\n",
    "pickle_out.close()\n",
    "\n",
    "pickle_out = open(\"y.pickle\",\"wb\")\n",
    "pickle.dump(y,pickle_out)\n",
    "pickle_out.close()"
   ]
  },
  {
   "cell_type": "code",
   "execution_count": 4,
   "metadata": {},
   "outputs": [],
   "source": [
    "pickle_in = open(\"X.pickle\",\"rb\")\n",
    "X = pickle.load(pickle_in)\n",
    "\n",
    "pickle_in = open(\"y.pickle\",\"rb\")\n",
    "y = pickle.load(pickle_in)"
   ]
  },
  {
   "cell_type": "code",
   "execution_count": 5,
   "metadata": {
    "execution": {
     "iopub.execute_input": "2021-12-03T14:59:41.759830Z",
     "iopub.status.busy": "2021-12-03T14:59:41.759431Z",
     "iopub.status.idle": "2021-12-03T14:59:41.835181Z",
     "shell.execute_reply": "2021-12-03T14:59:41.834397Z",
     "shell.execute_reply.started": "2021-12-03T14:59:41.759794Z"
    }
   },
   "outputs": [],
   "source": [
    "X_train, X_test, y_train, y_test = train_test_split(X, y, test_size = 0.3,random_state = 4)"
   ]
  },
  {
   "cell_type": "markdown",
   "metadata": {},
   "source": [
    "### Densenet169 Architecture"
   ]
  },
  {
   "cell_type": "code",
   "execution_count": null,
   "metadata": {
    "execution": {
     "iopub.execute_input": "2021-12-02T11:55:42.490102Z",
     "iopub.status.busy": "2021-12-02T11:55:42.489793Z",
     "iopub.status.idle": "2021-12-02T11:55:46.151926Z",
     "shell.execute_reply": "2021-12-02T11:55:46.150874Z",
     "shell.execute_reply.started": "2021-12-02T11:55:42.490068Z"
    }
   },
   "outputs": [],
   "source": [
    "dense_net_169 = tf.keras.applications.DenseNet169(\n",
    "    include_top = False, \n",
    "    weights = 'imagenet', \n",
    "    input_tensor = None,\n",
    "    input_shape = (128,128,3), \n",
    "    pooling = None, \n",
    "    classes = 1000\n",
    ")"
   ]
  },
  {
   "cell_type": "code",
   "execution_count": null,
   "metadata": {
    "execution": {
     "iopub.execute_input": "2021-12-02T11:55:48.877874Z",
     "iopub.status.busy": "2021-12-02T11:55:48.877473Z",
     "iopub.status.idle": "2021-12-02T11:55:48.895072Z",
     "shell.execute_reply": "2021-12-02T11:55:48.893493Z",
     "shell.execute_reply.started": "2021-12-02T11:55:48.877834Z"
    }
   },
   "outputs": [],
   "source": [
    "dense_net_169.trainable = False"
   ]
  },
  {
   "cell_type": "code",
   "execution_count": null,
   "metadata": {
    "execution": {
     "iopub.execute_input": "2021-12-02T11:56:24.001Z",
     "iopub.status.busy": "2021-12-02T11:56:24.000582Z",
     "iopub.status.idle": "2021-12-02T11:56:25.181574Z",
     "shell.execute_reply": "2021-12-02T11:56:25.180613Z",
     "shell.execute_reply.started": "2021-12-02T11:56:24.000965Z"
    }
   },
   "outputs": [],
   "source": [
    "dense_model = tf.keras.models.Sequential([\n",
    "    \n",
    "    dense_net_169,\n",
    "    tf.keras.layers.Conv2D(64, (3, 3), activation = 'relu'),\n",
    "    tf.keras.layers.Flatten(),\n",
    "    tf.keras.layers.Dense(100, activation = 'relu'),\n",
    "    tf.keras.layers.Dense(4, activation = 'softmax')\n",
    "])"
   ]
  },
  {
   "cell_type": "code",
   "execution_count": null,
   "metadata": {},
   "outputs": [],
   "source": [
    "learning_rate = 0.0001\n",
    "opt = Adam(lr = learning_rate) \n",
    "dense_model.compile(optimizer = opt, loss = 'sparse_categorical_crossentropy', metrics = ['accuracy'] )"
   ]
  },
  {
   "cell_type": "code",
   "execution_count": null,
   "metadata": {},
   "outputs": [],
   "source": [
    "hist = dense_model.fit(X_train, y_train, batch_size = 128, epochs = 10, verbose = 2, validation_split = 0.2)"
   ]
  },
  {
   "cell_type": "markdown",
   "metadata": {},
   "source": [
    "### EfficientNetV2 Architecture"
   ]
  },
  {
   "cell_type": "code",
   "execution_count": 4,
   "metadata": {},
   "outputs": [
    {
     "name": "stderr",
     "output_type": "stream",
     "text": [
      "D:\\Dhanush\\Anaconda\\lib\\site-packages\\tensorflow_addons\\utils\\ensure_tf_install.py:53: UserWarning: Tensorflow Addons supports using Python ops for all Tensorflow versions above or equal to 2.5.0 and strictly below 2.8.0 (nightly versions are not supported). \n",
      " The versions of TensorFlow you are currently using is 2.4.1 and is not supported. \n",
      "Some things might work, some things might not.\n",
      "If you were to encounter a bug, do not file an issue.\n",
      "If you want to make sure you're using a tested and supported configuration, either change the TensorFlow version or the TensorFlow Addons's version. \n",
      "You can find the compatibility matrix in TensorFlow Addon's readme:\n",
      "https://github.com/tensorflow/addons\n",
      "  warnings.warn(\n"
     ]
    }
   ],
   "source": [
    "import os\n",
    "import sys\n",
    "import tensorflow_addons as tfa\n",
    "import warnings\n",
    "warnings.filterwarnings('ignore')"
   ]
  },
  {
   "cell_type": "code",
   "execution_count": 5,
   "metadata": {},
   "outputs": [],
   "source": [
    "# SET LIBRARY DIRECTORY\n",
    "LIB_DIR = \"E:/oct images\"\n",
    "\n",
    "# To give access to automl files\n",
    "sys.path.insert(0, LIB_DIR)\n",
    "sys.path.insert(0, os.path.join(LIB_DIR, \"automl-master\"))\n",
    "sys.path.insert(0, os.path.join(LIB_DIR, \"automl-master\", \"efficientnetv2\"))"
   ]
  },
  {
   "cell_type": "code",
   "execution_count": 6,
   "metadata": {},
   "outputs": [],
   "source": [
    "# EfficientDET Module Imports\n",
    "import effnetv2_configs\n",
    "import preprocessing\n",
    "import effnetv2_model\n",
    "import hparams\n",
    "import utils"
   ]
  },
  {
   "cell_type": "code",
   "execution_count": 7,
   "metadata": {},
   "outputs": [
    {
     "name": "stdout",
     "output_type": "stream",
     "text": [
      "WARNING:tensorflow:From D:\\Dhanush\\Anaconda\\lib\\site-packages\\tensorflow\\python\\training\\tracking\\util.py:1313: NameBasedSaverStatus.__init__ (from tensorflow.python.training.tracking.util) is deprecated and will be removed in a future version.\n",
      "Instructions for updating:\n",
      "Restoring a name-based tf.train.Saver checkpoint using the object-based restore API. This mode uses global names to match variables, and so is somewhat fragile. It also adds new restore ops to the graph each time it is called when graph building. Prefer re-encoding training checkpoints in the object-based format: run save() on the object-based saver (the same one this message is coming from) and use that checkpoint in the future.\n"
     ]
    },
    {
     "name": "stderr",
     "output_type": "stream",
     "text": [
      "WARNING:tensorflow:From D:\\Dhanush\\Anaconda\\lib\\site-packages\\tensorflow\\python\\training\\tracking\\util.py:1313: NameBasedSaverStatus.__init__ (from tensorflow.python.training.tracking.util) is deprecated and will be removed in a future version.\n",
      "Instructions for updating:\n",
      "Restoring a name-based tf.train.Saver checkpoint using the object-based restore API. This mode uses global names to match variables, and so is somewhat fragile. It also adds new restore ops to the graph each time it is called when graph building. Prefer re-encoding training checkpoints in the object-based format: run save() on the object-based saver (the same one this message is coming from) and use that checkpoint in the future.\n"
     ]
    }
   ],
   "source": [
    "enetV2_model = tf.keras.models.Sequential([\n",
    "    tf.keras.layers.InputLayer(input_shape=[128, 128, 3]),\n",
    "    effnetv2_model.get_model('efficientnetv2-b0', include_top=False),\n",
    "    tf.keras.layers.Dropout(rate=0.2),\n",
    "    tf.keras.layers.Dense(4, activation='softmax'),\n",
    "])"
   ]
  },
  {
   "cell_type": "code",
   "execution_count": null,
   "metadata": {},
   "outputs": [],
   "source": [
    "# pip install tensorflow_addons"
   ]
  },
  {
   "cell_type": "code",
   "execution_count": null,
   "metadata": {},
   "outputs": [],
   "source": [
    "len(X_train)"
   ]
  },
  {
   "cell_type": "code",
   "execution_count": 8,
   "metadata": {},
   "outputs": [],
   "source": [
    "enetV2_model.load_weights('weights.hdf5')"
   ]
  },
  {
   "cell_type": "code",
   "execution_count": null,
   "metadata": {
    "execution": {
     "iopub.execute_input": "2021-12-03T13:54:18.006050Z",
     "iopub.status.busy": "2021-12-03T13:54:18.005639Z",
     "iopub.status.idle": "2021-12-03T13:54:18.026405Z",
     "shell.execute_reply": "2021-12-03T13:54:18.025441Z",
     "shell.execute_reply.started": "2021-12-03T13:54:18.006021Z"
    }
   },
   "outputs": [],
   "source": [
    "enetV2_model.summary()"
   ]
  },
  {
   "cell_type": "code",
   "execution_count": 9,
   "metadata": {
    "execution": {
     "iopub.execute_input": "2021-12-03T15:00:28.452892Z",
     "iopub.status.busy": "2021-12-03T15:00:28.452564Z",
     "iopub.status.idle": "2021-12-03T15:00:28.473805Z",
     "shell.execute_reply": "2021-12-03T15:00:28.473093Z",
     "shell.execute_reply.started": "2021-12-03T15:00:28.452854Z"
    }
   },
   "outputs": [],
   "source": [
    "learning_rate = 0.0001\n",
    "opt = Adam(lr = learning_rate) \n",
    "enetV2_model.compile(optimizer = opt, loss = 'sparse_categorical_crossentropy', metrics = ['accuracy'] )"
   ]
  },
  {
   "cell_type": "code",
   "execution_count": 11,
   "metadata": {},
   "outputs": [],
   "source": [
    "checkpoint_filepath = 'weights.hdf5'\n",
    "model_checkpoint_callback = tf.keras.callbacks.ModelCheckpoint(\n",
    "    filepath=checkpoint_filepath,\n",
    "    save_weights_only=True,\n",
    "    monitor='val_accuracy',\n",
    "    mode='max',\n",
    "    save_best_only=True)\n",
    "\n",
    "# Model weights are saved at the end of every epoch, if it's the best seen\n",
    "# so far."
   ]
  },
  {
   "cell_type": "code",
   "execution_count": 12,
   "metadata": {},
   "outputs": [
    {
     "name": "stdout",
     "output_type": "stream",
     "text": [
      "Epoch 1/3\n",
      "100/100 [==============================] - 828s 8s/step - loss: 1.0844 - accuracy: 0.5375 - val_loss: 0.4578 - val_accuracy: 0.8471\n",
      "Epoch 2/3\n",
      "100/100 [==============================] - 777s 8s/step - loss: 0.4101 - accuracy: 0.8564 - val_loss: 0.3081 - val_accuracy: 0.8924\n",
      "Epoch 3/3\n",
      "100/100 [==============================] - 800s 8s/step - loss: 0.2457 - accuracy: 0.9222 - val_loss: 0.2682 - val_accuracy: 0.9080\n",
      " ---- \n",
      "Epoch 1/3\n",
      "100/100 [==============================] - 863s 9s/step - loss: 0.2806 - accuracy: 0.9048 - val_loss: 0.2291 - val_accuracy: 0.9216\n",
      "Epoch 2/3\n",
      "100/100 [==============================] - 800s 8s/step - loss: 0.1802 - accuracy: 0.9403 - val_loss: 0.2184 - val_accuracy: 0.9261\n",
      "Epoch 3/3\n",
      "100/100 [==============================] - 940s 9s/step - loss: 0.1376 - accuracy: 0.9509 - val_loss: 0.2181 - val_accuracy: 0.9279\n",
      " ---- \n",
      "Epoch 1/3\n",
      "100/100 [==============================] - 966s 10s/step - loss: 0.2455 - accuracy: 0.9204 - val_loss: 0.1965 - val_accuracy: 0.9342\n",
      "Epoch 2/3\n",
      "100/100 [==============================] - 980s 10s/step - loss: 0.1604 - accuracy: 0.9448 - val_loss: 0.1854 - val_accuracy: 0.9368\n",
      "Epoch 3/3\n",
      "100/100 [==============================] - 1009s 10s/step - loss: 0.1095 - accuracy: 0.9655 - val_loss: 0.1984 - val_accuracy: 0.9350\n",
      " ---- \n",
      "Epoch 1/3\n",
      "100/100 [==============================] - 1184s 12s/step - loss: 0.2175 - accuracy: 0.9267 - val_loss: 0.1762 - val_accuracy: 0.9394\n",
      "Epoch 2/3\n",
      "100/100 [==============================] - 1117s 11s/step - loss: 0.1366 - accuracy: 0.9522 - val_loss: 0.1702 - val_accuracy: 0.9427\n",
      "Epoch 3/3\n",
      "100/100 [==============================] - 1151s 12s/step - loss: 0.0852 - accuracy: 0.9724 - val_loss: 0.1773 - val_accuracy: 0.9423\n",
      " ---- \n",
      "Epoch 1/3\n",
      "100/100 [==============================] - 1139s 11s/step - loss: 0.1959 - accuracy: 0.9318 - val_loss: 0.1651 - val_accuracy: 0.9445\n",
      "Epoch 2/3\n",
      "100/100 [==============================] - 1229s 12s/step - loss: 0.1149 - accuracy: 0.9601 - val_loss: 0.1620 - val_accuracy: 0.9459\n",
      "Epoch 3/3\n",
      "100/100 [==============================] - 1175s 12s/step - loss: 0.0800 - accuracy: 0.9739 - val_loss: 0.1654 - val_accuracy: 0.9476\n",
      " ---- \n"
     ]
    }
   ],
   "source": [
    "# initialize the number of epochs and batch size\n",
    "EPOCHS = 3\n",
    "BS = 100\n",
    "# construct the training image generator for data augmentation\n",
    "aug = ImageDataGenerator()\n",
    "# train the network\n",
    "for i in range(0,5):\n",
    "    history = enetV2_model.fit_generator(aug.flow(X_train[i*10000:(i+1)*10000], y_train[i*10000:(i+1)*10000], batch_size=BS),\n",
    "                        validation_data=(X_test, y_test),\n",
    "                        steps_per_epoch=len(X_train[:10000]) // BS,\n",
    "                        epochs=EPOCHS,\n",
    "                        verbose = 1,callbacks=[model_checkpoint_callback])\n",
    "    print(\" ---- \")\n",
    "    "
   ]
  },
  {
   "cell_type": "code",
   "execution_count": null,
   "metadata": {
    "execution": {
     "iopub.execute_input": "2021-12-03T15:00:36.163412Z",
     "iopub.status.busy": "2021-12-03T15:00:36.162934Z",
     "iopub.status.idle": "2021-12-03T15:00:36.795478Z",
     "shell.execute_reply": "2021-12-03T15:00:36.771281Z",
     "shell.execute_reply.started": "2021-12-03T15:00:36.163377Z"
    }
   },
   "outputs": [],
   "source": [
    "hist = enetV2_model.fit(X_train, y_train, batch_size = 128, epochs = 10, verbose = 2, validation_split = 0.2)"
   ]
  },
  {
   "cell_type": "code",
   "execution_count": 29,
   "metadata": {},
   "outputs": [
    {
     "ename": "EOFError",
     "evalue": "Ran out of input",
     "output_type": "error",
     "traceback": [
      "\u001b[1;31m---------------------------------------------------------------------------\u001b[0m",
      "\u001b[1;31mEOFError\u001b[0m                                  Traceback (most recent call last)",
      "\u001b[1;32m<ipython-input-29-a2ec5de22535>\u001b[0m in \u001b[0;36m<module>\u001b[1;34m\u001b[0m\n\u001b[0;32m      6\u001b[0m \u001b[1;31m# retrieve:\u001b[0m\u001b[1;33m\u001b[0m\u001b[1;33m\u001b[0m\u001b[1;33m\u001b[0m\u001b[0m\n\u001b[0;32m      7\u001b[0m \u001b[0mf\u001b[0m \u001b[1;33m=\u001b[0m \u001b[0mopen\u001b[0m\u001b[1;33m(\u001b[0m\u001b[1;34m'history.pckl'\u001b[0m\u001b[1;33m,\u001b[0m \u001b[1;34m'rb'\u001b[0m\u001b[1;33m)\u001b[0m\u001b[1;33m\u001b[0m\u001b[1;33m\u001b[0m\u001b[0m\n\u001b[1;32m----> 8\u001b[1;33m \u001b[0mhistory\u001b[0m \u001b[1;33m=\u001b[0m \u001b[0mpickle\u001b[0m\u001b[1;33m.\u001b[0m\u001b[0mload\u001b[0m\u001b[1;33m(\u001b[0m\u001b[0mf\u001b[0m\u001b[1;33m)\u001b[0m\u001b[1;33m\u001b[0m\u001b[1;33m\u001b[0m\u001b[0m\n\u001b[0m\u001b[0;32m      9\u001b[0m \u001b[0mf\u001b[0m\u001b[1;33m.\u001b[0m\u001b[0mclose\u001b[0m\u001b[1;33m(\u001b[0m\u001b[1;33m)\u001b[0m\u001b[1;33m\u001b[0m\u001b[1;33m\u001b[0m\u001b[0m\n",
      "\u001b[1;31mEOFError\u001b[0m: Ran out of input"
     ]
    }
   ],
   "source": [
    "# save:\n",
    "# f = open('history.pckl', 'wb')\n",
    "# pickle.dump(history, f)\n",
    "# f.close()\n",
    "\n",
    "# retrieve:    \n",
    "f = open('history.pckl', 'rb')\n",
    "history = pickle.load(f)\n",
    "f.close()"
   ]
  },
  {
   "cell_type": "code",
   "execution_count": 32,
   "metadata": {},
   "outputs": [
    {
     "data": {
      "image/png": "[encoded data removed]",
      "text/plain": [
       "<Figure size 432x288 with 1 Axes>"
      ]
     },
     "metadata": {
      "needs_background": "light"
     },
     "output_type": "display_data"
    }
   ],
   "source": [
    "loss_train = history['accuracy']\n",
    "loss_val = history['val_accuracy']\n",
    "epochs = range(0,3)\n",
    "plt.plot(epochs, loss_train, 'g', label='Training Accuracy')\n",
    "plt.plot(epochs, loss_val, 'b', label='validation Accuracy')\n",
    "plt.title('Training and Validation Accuracy')\n",
    "plt.xlabel('Epochs')\n",
    "plt.ylabel('Accuracy')\n",
    "plt.legend()\n",
    "plt.show()"
   ]
  },
  {
   "cell_type": "code",
   "execution_count": 15,
   "metadata": {},
   "outputs": [
    {
     "name": "stdout",
     "output_type": "stream",
     "text": [
      "{'loss': [0.195919007062912, 0.11493249237537384, 0.07999210059642792], 'accuracy': [0.9318000078201294, 0.960099995136261, 0.9739000201225281], 'val_loss': [0.16511447727680206, 0.16200970113277435, 0.1653805375099182], 'val_accuracy': [0.9445021152496338, 0.9458596110343933, 0.9475764632225037]}\n"
     ]
    }
   ],
   "source": [
    "print(history)"
   ]
  },
  {
   "cell_type": "code",
   "execution_count": 30,
   "metadata": {},
   "outputs": [],
   "source": [
    "#print(enetV2_model.keys())\n",
    "history = {'loss': [0.195919007062912, 0.11493249237537384, 0.07999210059642792], 'accuracy': [0.9318000078201294, 0.960099995136261, 0.9739000201225281], 'val_loss': [0.16511447727680206, 0.16200970113277435, 0.1653805375099182], 'val_accuracy': [0.9445021152496338, 0.9458596110343933, 0.9475764632225037]}"
   ]
  },
  {
   "cell_type": "markdown",
   "metadata": {},
   "source": [
    "### EfficientNetB2 Architecture"
   ]
  },
  {
   "cell_type": "code",
   "execution_count": null,
   "metadata": {
    "execution": {
     "iopub.execute_input": "2021-12-03T13:25:16.030811Z",
     "iopub.status.busy": "2021-12-03T13:25:16.030493Z",
     "iopub.status.idle": "2021-12-03T13:26:12.177664Z",
     "shell.execute_reply": "2021-12-03T13:26:12.176640Z",
     "shell.execute_reply.started": "2021-12-03T13:25:16.030777Z"
    }
   },
   "outputs": [],
   "source": [
    "# pip install tf-nightly"
   ]
  },
  {
   "cell_type": "code",
   "execution_count": null,
   "metadata": {
    "execution": {
     "iopub.execute_input": "2021-12-03T13:32:34.603355Z",
     "iopub.status.busy": "2021-12-03T13:32:34.602475Z",
     "iopub.status.idle": "2021-12-03T13:32:44.086174Z",
     "shell.execute_reply": "2021-12-03T13:32:44.085164Z",
     "shell.execute_reply.started": "2021-12-03T13:32:34.603315Z"
    }
   },
   "outputs": [],
   "source": [
    "# !pip install -q efficientnet"
   ]
  },
  {
   "cell_type": "code",
   "execution_count": null,
   "metadata": {
    "execution": {
     "iopub.execute_input": "2021-12-03T13:32:54.698543Z",
     "iopub.status.busy": "2021-12-03T13:32:54.697818Z",
     "iopub.status.idle": "2021-12-03T13:32:54.713009Z",
     "shell.execute_reply": "2021-12-03T13:32:54.712403Z",
     "shell.execute_reply.started": "2021-12-03T13:32:54.698496Z"
    }
   },
   "outputs": [],
   "source": [
    "import efficientnet.tfkeras as efc"
   ]
  },
  {
   "cell_type": "code",
   "execution_count": null,
   "metadata": {
    "execution": {
     "iopub.execute_input": "2021-12-03T13:40:52.500012Z",
     "iopub.status.busy": "2021-12-03T13:40:52.499674Z",
     "iopub.status.idle": "2021-12-03T13:40:55.096229Z",
     "shell.execute_reply": "2021-12-03T13:40:55.095239Z",
     "shell.execute_reply.started": "2021-12-03T13:40:52.499978Z"
    }
   },
   "outputs": [],
   "source": [
    "enet_b2 = efc.EfficientNetB2(input_shape=(128,128,3),\n",
    "                                include_top=False, \n",
    "                                weights='imagenet',\n",
    "                               )"
   ]
  },
  {
   "cell_type": "code",
   "execution_count": null,
   "metadata": {
    "execution": {
     "iopub.execute_input": "2021-12-03T13:43:12.202399Z",
     "iopub.status.busy": "2021-12-03T13:43:12.201865Z",
     "iopub.status.idle": "2021-12-03T13:43:12.205670Z",
     "shell.execute_reply": "2021-12-03T13:43:12.204761Z",
     "shell.execute_reply.started": "2021-12-03T13:43:12.202366Z"
    }
   },
   "outputs": [],
   "source": [
    "#enet_b2.summary()"
   ]
  },
  {
   "cell_type": "code",
   "execution_count": null,
   "metadata": {
    "execution": {
     "iopub.execute_input": "2021-12-03T13:43:16.115412Z",
     "iopub.status.busy": "2021-12-03T13:43:16.115008Z",
     "iopub.status.idle": "2021-12-03T13:43:16.138476Z",
     "shell.execute_reply": "2021-12-03T13:43:16.137850Z",
     "shell.execute_reply.started": "2021-12-03T13:43:16.115379Z"
    }
   },
   "outputs": [],
   "source": [
    "learning_rate = 0.0001\n",
    "opt = Adam(lr = learning_rate) \n",
    "enet_b2.compile(optimizer = opt, loss = 'sparse_categorical_crossentropy', metrics = ['accuracy'] )"
   ]
  },
  {
   "cell_type": "code",
   "execution_count": null,
   "metadata": {
    "execution": {
     "iopub.execute_input": "2021-12-03T13:44:04.456529Z",
     "iopub.status.busy": "2021-12-03T13:44:04.455840Z"
    }
   },
   "outputs": [],
   "source": [
    "hist = enet_b2.fit(X_train, y_train, batch_size = 128, epochs = 10, verbose = 2, validation_split = 0.2)"
   ]
  },
  {
   "cell_type": "markdown",
   "metadata": {},
   "source": [
    "### Model Testing"
   ]
  },
  {
   "cell_type": "code",
   "execution_count": null,
   "metadata": {
    "execution": {
     "iopub.execute_input": "2021-12-03T13:43:21.849345Z",
     "iopub.status.busy": "2021-12-03T13:43:21.849087Z",
     "iopub.status.idle": "2021-12-03T13:43:28.464665Z",
     "shell.execute_reply": "2021-12-03T13:43:28.463744Z",
     "shell.execute_reply.started": "2021-12-03T13:43:21.849317Z"
    }
   },
   "outputs": [],
   "source": [
    "train_results_d = dense_model.evaluate(X_test, y_test)\n",
    "print(\"test loss, test acc:\", train_results)"
   ]
  },
  {
   "cell_type": "code",
   "execution_count": null,
   "metadata": {},
   "outputs": [],
   "source": [
    "train_results_eb2 = enet_b2.evaluate(X_test, y_test)\n",
    "print(\"test loss, test acc:\", train_results)"
   ]
  },
  {
   "cell_type": "code",
   "execution_count": 22,
   "metadata": {},
   "outputs": [
    {
     "name": "stdout",
     "output_type": "stream",
     "text": [
      "783/783 [==============================] - 284s 362ms/step - loss: 0.1654 - accuracy: 0.9476\n",
      "test loss, test acc: [0.1653805375099182, 0.9475764632225037]\n"
     ]
    }
   ],
   "source": [
    "train_results_ev2 = enetV2_model.evaluate(X_test, y_test)\n",
    "print(\"test loss, test acc:\", train_results_ev2)"
   ]
  },
  {
   "cell_type": "markdown",
   "metadata": {},
   "source": [
    "### Testing with test Dataset"
   ]
  },
  {
   "cell_type": "code",
   "execution_count": 11,
   "metadata": {
    "execution": {
     "iopub.execute_input": "2021-12-02T15:10:16.519653Z",
     "iopub.status.busy": "2021-12-02T15:10:16.518859Z",
     "iopub.status.idle": "2021-12-02T15:10:16.534825Z",
     "shell.execute_reply": "2021-12-02T15:10:16.534011Z",
     "shell.execute_reply.started": "2021-12-02T15:10:16.519606Z"
    }
   },
   "outputs": [],
   "source": [
    "test_path = 'E:/oct images/OCT2017_/test'\n",
    "CATEGORIES = [\"CNV\",\"DME\",\"DRUSEN\",\"NORMAL\"]\n",
    "IMG_SIZE = 128\n",
    "myTestList = os.listdir(test_path)"
   ]
  },
  {
   "cell_type": "code",
   "execution_count": 12,
   "metadata": {
    "execution": {
     "iopub.execute_input": "2021-12-02T15:10:30.697301Z",
     "iopub.status.busy": "2021-12-02T15:10:30.697013Z",
     "iopub.status.idle": "2021-12-02T15:10:40.982665Z",
     "shell.execute_reply": "2021-12-02T15:10:40.981236Z",
     "shell.execute_reply.started": "2021-12-02T15:10:30.697269Z"
    }
   },
   "outputs": [
    {
     "name": "stderr",
     "output_type": "stream",
     "text": [
      "100%|████████████████████████████████████████████████████████████████████████████████| 242/242 [00:05<00:00, 44.09it/s]\n",
      "100%|████████████████████████████████████████████████████████████████████████████████| 242/242 [00:06<00:00, 39.25it/s]\n",
      "100%|████████████████████████████████████████████████████████████████████████████████| 242/242 [00:05<00:00, 42.43it/s]\n",
      "100%|████████████████████████████████████████████████████████████████████████████████| 242/242 [00:05<00:00, 44.05it/s]\n"
     ]
    }
   ],
   "source": [
    "from tqdm import tqdm\n",
    "A=[]\n",
    "b=[]\n",
    "for x in myTestList:\n",
    "  myPicList = os.listdir(test_path+\"/\"+str(x))\n",
    "  for i in tqdm(myPicList):\n",
    "    curImg = cv2.imread(test_path+\"/\"+str(x)+\"/\"+i)\n",
    "    curImg = cv2.resize(curImg,(IMG_SIZE,IMG_SIZE))\n",
    "    A.append(curImg)\n",
    "    b.append(CATEGORIES.index(x))"
   ]
  },
  {
   "cell_type": "code",
   "execution_count": 13,
   "metadata": {
    "execution": {
     "iopub.execute_input": "2021-12-02T15:10:43.317826Z",
     "iopub.status.busy": "2021-12-02T15:10:43.316778Z",
     "iopub.status.idle": "2021-12-02T15:10:43.419231Z",
     "shell.execute_reply": "2021-12-02T15:10:43.41837Z",
     "shell.execute_reply.started": "2021-12-02T15:10:43.317775Z"
    }
   },
   "outputs": [],
   "source": [
    "A = np.array(A)\n",
    "b = np.array(b)"
   ]
  },
  {
   "cell_type": "code",
   "execution_count": null,
   "metadata": {},
   "outputs": [],
   "source": [
    "len(A)//31"
   ]
  },
  {
   "cell_type": "code",
   "execution_count": 14,
   "metadata": {
    "execution": {
     "iopub.execute_input": "2021-12-02T15:15:23.987342Z",
     "iopub.status.busy": "2021-12-02T15:15:23.986377Z",
     "iopub.status.idle": "2021-12-02T15:15:42.223594Z",
     "shell.execute_reply": "2021-12-02T15:15:42.222703Z",
     "shell.execute_reply.started": "2021-12-02T15:15:23.987288Z"
    }
   },
   "outputs": [
    {
     "ename": "NameError",
     "evalue": "name 'model' is not defined",
     "output_type": "error",
     "traceback": [
      "\u001b[1;31m---------------------------------------------------------------------------\u001b[0m",
      "\u001b[1;31mNameError\u001b[0m                                 Traceback (most recent call last)",
      "\u001b[1;32m<ipython-input-14-5e34b47d8c14>\u001b[0m in \u001b[0;36m<module>\u001b[1;34m\u001b[0m\n\u001b[1;32m----> 1\u001b[1;33m \u001b[0mtest_results\u001b[0m \u001b[1;33m=\u001b[0m \u001b[0mmodel\u001b[0m\u001b[1;33m.\u001b[0m\u001b[0mevaluate\u001b[0m\u001b[1;33m(\u001b[0m\u001b[0mA\u001b[0m\u001b[1;33m,\u001b[0m \u001b[0mb\u001b[0m\u001b[1;33m)\u001b[0m\u001b[1;33m\u001b[0m\u001b[1;33m\u001b[0m\u001b[0m\n\u001b[0m\u001b[0;32m      2\u001b[0m \u001b[0mprint\u001b[0m\u001b[1;33m(\u001b[0m\u001b[1;34m\"test loss, test acc:\"\u001b[0m\u001b[1;33m,\u001b[0m \u001b[0mtest_results\u001b[0m\u001b[1;33m)\u001b[0m\u001b[1;33m\u001b[0m\u001b[1;33m\u001b[0m\u001b[0m\n",
      "\u001b[1;31mNameError\u001b[0m: name 'model' is not defined"
     ]
    }
   ],
   "source": [
    "test_results = model.evaluate(A, b)\n",
    "print(\"test loss, test acc:\", test_results)"
   ]
  },
  {
   "cell_type": "code",
   "execution_count": null,
   "metadata": {},
   "outputs": [],
   "source": [
    "test_results = model.evaluate(A, b)\n",
    "print(\"test loss, test acc:\", test_results)"
   ]
  },
  {
   "cell_type": "code",
   "execution_count": 15,
   "metadata": {},
   "outputs": [
    {
     "name": "stdout",
     "output_type": "stream",
     "text": [
      "31/31 [==============================] - 23s 391ms/step - loss: 0.0459 - accuracy: 0.9777\n",
      "test loss, test acc: [0.06786005944013596, 0.9690082669258118]\n"
     ]
    }
   ],
   "source": [
    "test_results_enetV2 = enetV2_model.evaluate(A, b)\n",
    "print(\"test loss, test acc:\", test_results_enetV2)"
   ]
  },
  {
   "cell_type": "code",
   "execution_count": 16,
   "metadata": {},
   "outputs": [],
   "source": [
    "D_test = enetV2_model.predict(A)\n",
    "D_test = np.argmax(D_test,axis=1)"
   ]
  },
  {
   "cell_type": "code",
   "execution_count": 19,
   "metadata": {},
   "outputs": [
    {
     "name": "stdout",
     "output_type": "stream",
     "text": [
      "CNV F1 Score : 0.9506903353057199\n",
      "DME F1 Score : 0.9790794979079498\n",
      "DRUSEN F1 Score : 0.9570815450643777\n",
      "NORMAL F1 Score : 0.9896907216494846\n"
     ]
    }
   ],
   "source": [
    "from sklearn.metrics import f1_score\n",
    "f_score = f1_score(b, D_test, average=None)\n",
    "for i in range(4):\n",
    "    print(str(CATEGORIES[i])+\" F1 Score : \"+str(f_score[i]))"
   ]
  },
  {
   "cell_type": "code",
   "execution_count": 22,
   "metadata": {},
   "outputs": [],
   "source": [
    "from sklearn.metrics import confusion_matrix"
   ]
  },
  {
   "cell_type": "code",
   "execution_count": 23,
   "metadata": {},
   "outputs": [
    {
     "name": "stdout",
     "output_type": "stream",
     "text": [
      "[[241   1   0   0]\n",
      " [  6 234   0   2]\n",
      " [ 18   0 223   1]\n",
      " [  0   1   1 240]]\n"
     ]
    }
   ],
   "source": [
    "cf_matrix = confusion_matrix(b,D_test)\n",
    "print(cf_matrix)"
   ]
  },
  {
   "cell_type": "code",
   "execution_count": 27,
   "metadata": {},
   "outputs": [
    {
     "data": {
      "text/plain": [
       "<AxesSubplot:>"
      ]
     },
     "execution_count": 27,
     "metadata": {},
     "output_type": "execute_result"
    },
    {
     "data": {
      "image/png": "[encoded data removed]",
      "text/plain": [
       "<Figure size 432x288 with 2 Axes>"
      ]
     },
     "metadata": {
      "needs_background": "light"
     },
     "output_type": "display_data"
    }
   ],
   "source": [
    "import seaborn as sns\n",
    "sns.heatmap(cf_matrix, annot=True,cmap='Blues',fmt = 'd')"
   ]
  },
  {
   "cell_type": "markdown",
   "metadata": {},
   "source": [
    "### Testing with Validation Dataset"
   ]
  },
  {
   "cell_type": "code",
   "execution_count": 28,
   "metadata": {
    "execution": {
     "iopub.execute_input": "2021-12-02T15:16:25.4829Z",
     "iopub.status.busy": "2021-12-02T15:16:25.482622Z",
     "iopub.status.idle": "2021-12-02T15:16:25.489051Z",
     "shell.execute_reply": "2021-12-02T15:16:25.488352Z",
     "shell.execute_reply.started": "2021-12-02T15:16:25.482869Z"
    }
   },
   "outputs": [],
   "source": [
    "val_path = 'E:/oct images/OCT2017_/val'\n",
    "CATEGORIES = [\"CNV\",\"DME\",\"DRUSEN\",\"NORMAL\"]\n",
    "IMG_SIZE = 128\n",
    "myvalList = os.listdir(val_path)"
   ]
  },
  {
   "cell_type": "code",
   "execution_count": 29,
   "metadata": {
    "execution": {
     "iopub.execute_input": "2021-12-02T15:16:52.549874Z",
     "iopub.status.busy": "2021-12-02T15:16:52.549088Z",
     "iopub.status.idle": "2021-12-02T15:16:52.944278Z",
     "shell.execute_reply": "2021-12-02T15:16:52.943378Z",
     "shell.execute_reply.started": "2021-12-02T15:16:52.549824Z"
    }
   },
   "outputs": [
    {
     "name": "stderr",
     "output_type": "stream",
     "text": [
      "100%|████████████████████████████████████████████████████████████████████████████████████| 8/8 [00:00<00:00, 43.13it/s]\n",
      "100%|████████████████████████████████████████████████████████████████████████████████████| 8/8 [00:00<00:00, 48.32it/s]\n",
      "100%|████████████████████████████████████████████████████████████████████████████████████| 8/8 [00:00<00:00, 47.18it/s]\n",
      "100%|████████████████████████████████████████████████████████████████████████████████████| 8/8 [00:00<00:00, 41.78it/s]\n"
     ]
    }
   ],
   "source": [
    "from tqdm import tqdm\n",
    "P=[]\n",
    "q=[]\n",
    "for x in myvalList:\n",
    "  myPicList = os.listdir(val_path+\"/\"+str(x))\n",
    "  for i in tqdm(myPicList):\n",
    "    curImg = cv2.imread(val_path+\"/\"+str(x)+\"/\"+i)\n",
    "    curImg = cv2.resize(curImg,(IMG_SIZE,IMG_SIZE))\n",
    "    P.append(curImg)\n",
    "    q.append(CATEGORIES.index(x))"
   ]
  },
  {
   "cell_type": "code",
   "execution_count": 30,
   "metadata": {
    "execution": {
     "iopub.execute_input": "2021-12-02T15:16:55.923407Z",
     "iopub.status.busy": "2021-12-02T15:16:55.92275Z",
     "iopub.status.idle": "2021-12-02T15:16:55.92792Z",
     "shell.execute_reply": "2021-12-02T15:16:55.927036Z",
     "shell.execute_reply.started": "2021-12-02T15:16:55.923366Z"
    }
   },
   "outputs": [],
   "source": [
    "P = np.array(P)\n",
    "q = np.array(q)"
   ]
  },
  {
   "cell_type": "code",
   "execution_count": null,
   "metadata": {},
   "outputs": [],
   "source": [
    "P.shape"
   ]
  },
  {
   "cell_type": "code",
   "execution_count": null,
   "metadata": {
    "execution": {
     "iopub.execute_input": "2021-12-02T15:16:59.350002Z",
     "iopub.status.busy": "2021-12-02T15:16:59.349697Z",
     "iopub.status.idle": "2021-12-02T15:17:02.787859Z",
     "shell.execute_reply": "2021-12-02T15:17:02.787008Z",
     "shell.execute_reply.started": "2021-12-02T15:16:59.349971Z"
    }
   },
   "outputs": [],
   "source": [
    "val_results = dense_model.evaluate(P, q)\n",
    "print(\"test loss, test acc:\", val_results)"
   ]
  },
  {
   "cell_type": "code",
   "execution_count": null,
   "metadata": {},
   "outputs": [],
   "source": [
    "val_results = enet_B2.evaluate(P, q)\n",
    "print(\"test loss, test acc:\", val_results)"
   ]
  },
  {
   "cell_type": "code",
   "execution_count": 31,
   "metadata": {},
   "outputs": [
    {
     "name": "stdout",
     "output_type": "stream",
     "text": [
      "1/1 [==============================] - 3s 3s/step - loss: 0.0076 - accuracy: 1.0000\n",
      "test loss, test acc: [0.007550552953034639, 1.0]\n"
     ]
    }
   ],
   "source": [
    "val_results_enetV2 = enetV2_model.evaluate(P, q)\n",
    "print(\"test loss, test acc:\", val_results_enetV2)"
   ]
  },
  {
   "cell_type": "code",
   "execution_count": null,
   "metadata": {},
   "outputs": [],
   "source": [
    "D = enetV2_model.predict(P)\n",
    "D = np.argmax(D,axis=1)"
   ]
  },
  {
   "cell_type": "code",
   "execution_count": null,
   "metadata": {},
   "outputs": [],
   "source": [
    "cnt = 0\n",
    "for i in range(len(D)):\n",
    "    if D[i] == q[i]:\n",
    "        cnt+=1\n",
    "print(cnt)"
   ]
  },
  {
   "cell_type": "code",
   "execution_count": null,
   "metadata": {},
   "outputs": [],
   "source": [
    "D_test = enetV2_model.predict(A)\n",
    "D_test = np.argmax(D_test,axis=1)"
   ]
  },
  {
   "cell_type": "code",
   "execution_count": null,
   "metadata": {},
   "outputs": [],
   "source": [
    "cnt_test = 0\n",
    "for i in range(len(D_test)):\n",
    "    if D_test[i] == b[i]:\n",
    "        cnt_test+=1\n",
    "print((cnt_test/len(D_test))*100)"
   ]
  },
  {
   "cell_type": "code",
   "execution_count": null,
   "metadata": {},
   "outputs": [],
   "source": []
  }
 ],
 "metadata": {
  "kernelspec": {
   "display_name": "Python 3",
   "language": "python",
   "name": "python3"
  },
  "language_info": {
   "codemirror_mode": {
    "name": "ipython",
    "version": 3
   },
   "file_extension": ".py",
   "mimetype": "text/x-python",
   "name": "python",
   "nbconvert_exporter": "python",
   "pygments_lexer": "ipython3",
   "version": "3.8.5"
  }
 },
 "nbformat": 4,
 "nbformat_minor": 4
}
